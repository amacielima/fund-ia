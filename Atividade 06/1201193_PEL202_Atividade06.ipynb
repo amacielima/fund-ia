{
 "cells": [
  {
   "cell_type": "code",
   "execution_count": 250,
   "metadata": {},
   "outputs": [],
   "source": [
    "import math\n",
    "import pandas as pd"
   ]
  },
  {
   "cell_type": "code",
   "execution_count": 251,
   "metadata": {},
   "outputs": [],
   "source": [
    "# realiza o cálculo da entropia\n",
    "def entropy(p):\n",
    "    \n",
    "    # se o valor for maio que zero, é possível computar o log\n",
    "    if (p > 0):\n",
    "        return p * math.log2(p)\n",
    "    \n",
    "    else:\n",
    "        return 0\n",
    "    \n",
    "# calcula a entropia do dataset\n",
    "def dataset_entropy(df):\n",
    "    \n",
    "    h = 0 # entropia\n",
    "    \n",
    "    # para cada classe do dataset, calcula a entropia e realiza a soma\n",
    "    for item in df['class'].unique():\n",
    "        \n",
    "        # calcula a entropia para cada classe e realiza o somatório em h\n",
    "        h += - entropy(df.loc[df['class'] == item].shape[0] / len(df))\n",
    "        \n",
    "    return h \n",
    "\n",
    "# calcula a entropia para cada atributo\n",
    "def attribute_entropy(df, attribute, labels):\n",
    "\n",
    "    # separa os valores distintos existentes no atributo da função em subsets\n",
    "    subsets = df[attribute].unique()\n",
    "    \n",
    "    attrib_entropy = 0\n",
    "    \n",
    "    # para cada valor distinto do atributo\n",
    "    for t in subsets:\n",
    "        \n",
    "        subset_entropy = 0\n",
    "        \n",
    "        # seleciona os atribudos iguais ao valor do iterador\n",
    "        subset = df.loc[df[attribute] == t]\n",
    "        \n",
    "        # proporção entre o subset e o dataset\n",
    "        p = subset.shape[0] / len(df)\n",
    "        \n",
    "        # para cada classe, calcula a entropia em relação ao subset e armanena o somatório\n",
    "        for item in labels:\n",
    "            subset_entropy += - entropy(subset.loc[subset['class'] == item].shape[0] / subset.shape[0])\n",
    "        \n",
    "        # a entropia do atributo é a soma da entropia de todos os subsets multiplicado pela variável p\n",
    "        attrib_entropy += subset_entropy * p\n",
    "        \n",
    "    return attrib_entropy"
   ]
  },
  {
   "cell_type": "code",
   "execution_count": 252,
   "metadata": {},
   "outputs": [],
   "source": [
    "# calcula o ganho de informação\n",
    "def information_gain(df):\n",
    "    \n",
    "    # armazena a entropia do dataset\n",
    "    h = dataset_entropy(df)\n",
    "    \n",
    "    # lista de características do dataset\n",
    "    attributes = ['sepal length in cm', 'sepal width in cm', 'petal length in cm', 'petal width in cm']\n",
    "    \n",
    "    # lista de classes\n",
    "    labels = df['class'].unique()\n",
    "    \n",
    "    # dicionário para armazenar os valores do ganho\n",
    "    gain_dict = {}\n",
    "    \n",
    "    # para cada atributo, calcula-se sua entropia\n",
    "    for att in attributes:\n",
    "        gain_dict[att] = h - attribute_entropy(df, att, labels)\n",
    "        \n",
    "    return gain_dict\n",
    "\n",
    "# captura o atributo com maior ganho de informação\n",
    "# def max_information_gain():"
   ]
  },
  {
   "cell_type": "code",
   "execution_count": 253,
   "metadata": {},
   "outputs": [
    {
     "name": "stdout",
     "output_type": "stream",
     "text": [
      "dataset entropy = 1.584962500721156\n",
      "atributo com maior ganho de informação: sepal width in cm\n"
     ]
    }
   ],
   "source": [
    "def main():\n",
    "    \n",
    "    # leitura arquivo do dataset\n",
    "    df = pd.read_csv('data/iris.data', header = None, encoding='utf-8')\n",
    "    \n",
    "    # definição de colunas\n",
    "    df.columns = ['sepal length in cm', 'sepal width in cm', 'petal length in cm', 'petal width in cm' , 'class']\n",
    "    \n",
    "    # cálculo da entropia do dataset\n",
    "    print('dataset entropy = ' + str(dataset_entropy(df)))\n",
    "    \n",
    "    # cálculo do ganho de informação\n",
    "    gain_dict = information_gain(df)\n",
    "    \n",
    "    print('atributo com maior ganho de informação: ' + str(max(gain_dict)))\n",
    "    \n",
    "if __name__ == \"__main__\": main()"
   ]
  },
  {
   "cell_type": "code",
   "execution_count": null,
   "metadata": {},
   "outputs": [],
   "source": []
  }
 ],
 "metadata": {
  "kernelspec": {
   "display_name": "Python 3",
   "language": "python",
   "name": "python3"
  },
  "language_info": {
   "codemirror_mode": {
    "name": "ipython",
    "version": 3
   },
   "file_extension": ".py",
   "mimetype": "text/x-python",
   "name": "python",
   "nbconvert_exporter": "python",
   "pygments_lexer": "ipython3",
   "version": "3.7.1"
  }
 },
 "nbformat": 4,
 "nbformat_minor": 2
}
