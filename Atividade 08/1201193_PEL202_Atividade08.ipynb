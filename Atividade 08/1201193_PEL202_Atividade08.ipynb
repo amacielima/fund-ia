{
 "cells": [
  {
   "cell_type": "code",
   "execution_count": 1,
   "metadata": {},
   "outputs": [],
   "source": [
    "import pandas as pd\n",
    "import numpy as np\n",
    "import matplotlib.pyplot as plt\n",
    "import matplotlib.cm as cm\n",
    "from sklearn import datasets\n",
    "from sklearn.metrics import accuracy_score\n",
    "from sklearn.linear_model import Perceptron\n",
    "from sklearn.preprocessing import StandardScaler\n",
    "from sklearn.neural_network import MLPClassifier\n",
    "from sklearn.model_selection import train_test_split\n",
    "from sklearn.metrics import classification_report, confusion_matrix"
   ]
  },
  {
   "cell_type": "markdown",
   "metadata": {},
   "source": [
    "### Preparação do Dataset "
   ]
  },
  {
   "cell_type": "code",
   "execution_count": 2,
   "metadata": {},
   "outputs": [],
   "source": [
    "# carrega dados da base de iris\n",
    "data = datasets.load_iris()\n",
    "iris = pd.DataFrame(data.data, columns = data.feature_names)\n",
    "iris['class'] = data['target']\n",
    "\n",
    "# define atributos e possíveis saídas da classificação com dois atributos\n",
    "X = iris.iloc[:,0:4].values\n",
    "y = iris['class'].values\n",
    "\n",
    "# define separação da base para treino e teste\n",
    "X_train, X_test, y_train, y_test = train_test_split(X, y, test_size = 0.3, random_state=1)\n",
    "\n",
    "# opções de seleção para a primeira parte do exercício\n",
    "sep_classes = {0: 'Iris-setosa', 1: 'Iris-versicolor'}\n",
    "\n",
    "# separação do dataset para as classes setosa e versicolor\n",
    "iris_sep = iris.loc[iris['class'].isin(sep_classes.keys())]\n",
    "X_sep = iris_sep.iloc[:, 0:4].values\n",
    "y_sep = iris_sep['class'].values\n",
    "\n",
    "# define separação da base para treino e teste para o Perceptron\n",
    "X_ppn_train, X_ppn_test, y_ppn_train, y_ppn_test = train_test_split(X_sep, y_sep, test_size = 0.3, random_state=1)\n",
    "\n",
    "# dicionário de classes\n",
    "class_map = {0: 'Iris-setosa', 1: 'Iris-versicolor', 2: 'Iris-virginica'}"
   ]
  },
  {
   "cell_type": "markdown",
   "metadata": {},
   "source": [
    "### Perceptron"
   ]
  },
  {
   "cell_type": "code",
   "execution_count": 3,
   "metadata": {},
   "outputs": [
    {
     "name": "stdout",
     "output_type": "stream",
     "text": [
      "\n",
      "Perceptron com as classes setosa e versicolor:\n",
      "\n",
      "Score \n",
      " 1.0\n",
      "\n",
      "Matriz de Erro \n",
      " [[14  0]\n",
      " [ 0 16]]\n",
      "\n",
      "Perceptron com todas as classes:\n",
      "\n",
      "Score \n",
      " 0.7555555555555555\n",
      "\n",
      "Matriz de Erro \n",
      " [[10  4  0]\n",
      " [ 0 17  1]\n",
      " [ 0  6  7]]\n"
     ]
    }
   ],
   "source": [
    "# define parâmetros do modelo \n",
    "ppn_sep = Perceptron(tol = 1e-3, random_state = 0).fit(X_ppn_train, y_ppn_train)\n",
    "\n",
    "# realiza predição do modelo\n",
    "y_pred_ppn_sep = ppn_sep.predict(X_ppn_test)\n",
    "\n",
    "print('\\nPerceptron com as classes ''setosa'' e ''versicolor'':')\n",
    "print('\\nScore \\n', ppn_sep.score(X_ppn_test, y_ppn_test))\n",
    "print('\\nMatriz de Erro \\n', confusion_matrix(y_ppn_test, y_pred_ppn_sep))\n",
    "\n",
    "ppn = Perceptron(tol = 1e-3, random_state = 0).fit(X_train, y_train)\n",
    "y_pred_ppn = ppn.predict(X_test)\n",
    "\n",
    "print('\\nPerceptron com todas as classes:')\n",
    "print('\\nScore \\n', ppn.score(X_test, y_test))\n",
    "print('\\nMatriz de Erro \\n', confusion_matrix(y_test, y_pred_ppn))"
   ]
  },
  {
   "cell_type": "markdown",
   "metadata": {},
   "source": [
    "### Multi Layer Perceptron"
   ]
  },
  {
   "cell_type": "code",
   "execution_count": 4,
   "metadata": {},
   "outputs": [
    {
     "name": "stdout",
     "output_type": "stream",
     "text": [
      "\n",
      "Multi Layer Perceptron com todas as classes:\n",
      "\n",
      "Score \n",
      " 1.0\n",
      "\n",
      "Matriz de Erro \n",
      " [[14  0  0]\n",
      " [ 0 18  0]\n",
      " [ 0  0 13]]\n"
     ]
    }
   ],
   "source": [
    "# define parâmetros do modelo \n",
    "mlp = MLPClassifier(hidden_layer_sizes=(10), max_iter = 600, alpha = 0.0001, solver = 'lbfgs', \n",
    "                    random_state = 21, tol = 0.000000001).fit(X_train, y_train)\n",
    "\n",
    "# realiza predição do modelo\n",
    "y_pred_mlp = mlp.predict(X_test)\n",
    "\n",
    "print('\\nMulti Layer Perceptron com todas as classes:')\n",
    "print('\\nScore \\n', mlp.score(X_test, y_test))\n",
    "print('\\nMatriz de Erro \\n', confusion_matrix(y_test, y_pred_mlp))"
   ]
  },
  {
   "cell_type": "markdown",
   "metadata": {},
   "source": [
    "#### Função para gerar gráfico dos dados e regiões a partir de duas características do dataset:"
   ]
  },
  {
   "cell_type": "code",
   "execution_count": 5,
   "metadata": {},
   "outputs": [],
   "source": [
    "def plot_decision_line (X, y, class_dict, colors, title, legend, clf, n):\n",
    "    \n",
    "    # identifica valores máximos e mínimos\n",
    "    x_min, x_max = X[:, 0].min() - 1, X[:, 0].max() + 1\n",
    "    y_min, y_max = X[:, 1].min() - 1, X[:, 1].max() + 1\n",
    "\n",
    "    # gera pontos no gráfico a uma distância n\n",
    "    xp, yp = np.meshgrid(np.arange(x_min, x_max, n), np.arange(y_min, y_max, n))\n",
    "\n",
    "    # realiza predição do classificador\n",
    "    Z = clf.predict(np.c_[xp.ravel(), yp.ravel()]).reshape(xp.shape)\n",
    "\n",
    "    # plota os dados no gráfico\n",
    "    for l, c in zip(class_dict.keys(), colors):\n",
    "    \n",
    "        if (l == 0):\n",
    "            text = class_dict[l]\n",
    "        \n",
    "        elif (l == 1):\n",
    "            text = class_dict[l]\n",
    "        \n",
    "        plt.scatter(X[y == l, 0], X[y == l, 1], c = c, marker = '^', label = text)\n",
    "\n",
    "    # destaca o contorno das regiões de decisão\n",
    "    plt.contourf(xp, yp, Z, alpha = 0.2, cmap = cm.magma)\n",
    "    plt.title(title)\n",
    "    plt.legend(loc = legend)\n",
    "    plt.show()"
   ]
  },
  {
   "cell_type": "markdown",
   "metadata": {},
   "source": [
    "#### Escolha dos atributos para gerar gráficos em 2D:"
   ]
  },
  {
   "cell_type": "code",
   "execution_count": 6,
   "metadata": {},
   "outputs": [],
   "source": [
    "# 0 -> sepal length (cm)\n",
    "# 1 -> sepal width (cm)\n",
    "# 2 -> petal length (cm)\n",
    "# 3 -> petal width (cm)\n",
    "\n",
    "fd = 0 # x -> first dimension\n",
    "sd = 2 # y -> second dimension"
   ]
  },
  {
   "cell_type": "markdown",
   "metadata": {},
   "source": [
    "### Perceptron (2D)"
   ]
  },
  {
   "cell_type": "code",
   "execution_count": 7,
   "metadata": {
    "scrolled": true
   },
   "outputs": [
    {
     "data": {
      "image/png": "[encoded data removed]",
      "text/plain": [
       "<Figure size 432x288 with 1 Axes>"
      ]
     },
     "metadata": {
      "needs_background": "light"
     },
     "output_type": "display_data"
    }
   ],
   "source": [
    "# executa o modelo em duas dimensões com as classes setosa e versicolor\n",
    "ppn_2d = Perceptron(tol = 1e-3, random_state = 0).fit(X_ppn_train[:,[fd,sd]], y_ppn_train)\n",
    "\n",
    "# seleciona cores\n",
    "ppn_colors = ['mediumvioletred', 'darkorange']\n",
    "\n",
    "# plota gráfico com os dados e linha de decisão do classificador\n",
    "plot_decision_line(X_sep[:,[fd,sd]], y_sep, sep_classes, ppn_colors, 'Perceptron', 'lower right', ppn_2d, .001)"
   ]
  },
  {
   "cell_type": "markdown",
   "metadata": {},
   "source": [
    "### Multi Layer Perceptron (2D)"
   ]
  },
  {
   "cell_type": "code",
   "execution_count": 8,
   "metadata": {},
   "outputs": [
    {
     "data": {
      "image/png": "[encoded data removed]",
      "text/plain": [
       "<Figure size 432x288 with 1 Axes>"
      ]
     },
     "metadata": {
      "needs_background": "light"
     },
     "output_type": "display_data"
    }
   ],
   "source": [
    "# executa o modelo em duas dimensões com todas as classes\n",
    "mlp_2d = MLPClassifier(hidden_layer_sizes = (10), \n",
    "                       max_iter = 500, alpha = 0.0001, solver = 'lbfgs', \n",
    "                       random_state = 21,tol = 0.000000001).fit(X_train[:,[fd,sd]], y_train) \n",
    "\n",
    "# seleciona cores\n",
    "mlp_colors = ['mediumvioletred', 'darkorange', 'mediumturquoise']\n",
    "\n",
    "# plota gráfico com os dados e linha de decisão do classificador\n",
    "plot_decision_line(X[:,[fd,sd]], y, class_map, mlp_colors, 'Multi Layer Perceptron', 'lower right', mlp_2d, .02)"
   ]
  }
 ],
 "metadata": {
  "kernelspec": {
   "display_name": "Python 3",
   "language": "python",
   "name": "python3"
  },
  "language_info": {
   "codemirror_mode": {
    "name": "ipython",
    "version": 3
   },
   "file_extension": ".py",
   "mimetype": "text/x-python",
   "name": "python",
   "nbconvert_exporter": "python",
   "pygments_lexer": "ipython3",
   "version": "3.7.1"
  }
 },
 "nbformat": 4,
 "nbformat_minor": 2
}
